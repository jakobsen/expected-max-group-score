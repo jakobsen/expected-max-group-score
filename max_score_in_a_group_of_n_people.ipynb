{
 "metadata": {
  "language_info": {
   "codemirror_mode": {
    "name": "ipython",
    "version": 3
   },
   "file_extension": ".py",
   "mimetype": "text/x-python",
   "name": "python",
   "nbconvert_exporter": "python",
   "pygments_lexer": "ipython3",
   "version": "3.8.3-final"
  },
  "orig_nbformat": 2,
  "kernelspec": {
   "name": "Python 3.8.3 64-bit ('base': conda)",
   "display_name": "Python 3.8.3 64-bit ('base': conda)",
   "metadata": {
    "interpreter": {
     "hash": "a551b7001fb3af49c53470a95fe3ba2ca33c58b84cea9b94638cf89857b87666"
    }
   }
  }
 },
 "nbformat": 4,
 "nbformat_minor": 2,
 "cells": [
  {
   "source": [
    "<style>\n",
    "#notebook-container{\n",
    "    box-shadow: none !important;\n",
    "}\n",
    "\n",
    ".container {\n",
    "    width: 80% !important;\n",
    "}\n",
    "\n",
    ".notebook_app {\n",
    "    background: #fff !important;\n",
    "}\n",
    "\n",
    "body > #header {\n",
    "    background:  #f57b00;\n",
    "}\n",
    "\n",
    ".navbar-default {\n",
    "    background: none;\n",
    "    border: none;\n",
    "}\n",
    "\n",
    ".navbar-default .navbar-nav > li > a, #kernel_indicator {\n",
    "    color: rgba(255, 255, 255, 0.25);\n",
    "    border-bottom: 2px solid #f57b00;\n",
    "    transition: all 0.25s;\n",
    "}\n",
    "\n",
    ".navbar-default .navbar-nav > li > a:hover, #kernel_indicator:hover {\n",
    "    border-bottom: 2px solid #fff;\n",
    "    color: rgba(255, 255, 255, 1);\n",
    "}\n",
    "\n",
    "div.input_area {\n",
    "    border: none;\n",
    "    border-radius: 0;\n",
    "    background: #f7f7f7;\n",
    "    line-height: 1.5em;\n",
    "    margin: 0.5em 0;\n",
    "    padding: 0;\n",
    "}\n",
    "\n",
    "div.cell {\n",
    "    transition: all 0.25s;\n",
    "    border: none;\n",
    "    position: relative;\n",
    "    top: 0;\n",
    "}\n",
    "\n",
    "div.cell.selected, div.cell.selected.jupyter-soft-selected {\n",
    "    border: none;\n",
    "    background: transparent;\n",
    "    box-shadow: 0 6px 18px #aaa;\n",
    "    z-index: 10;\n",
    "    top: -10px;\n",
    "}\n",
    "\n",
    "\n",
    "div#pager {\n",
    "    opacity: 0.85;\n",
    "    z-index: 9999;\n",
    "}\n",
    "\n",
    ".navbar-default .navbar-nav > .open > a, .navbar-default .navbar-nav > .open > a:hover, .navbar-default .navbar-nav > .open > a:focus {\n",
    "    color: #fff;\n",
    "    background-color: transparent;\n",
    "    border-bottom: 2px solid #fff;\n",
    "}\n",
    "\n",
    ".dropdown-menu {\n",
    "    z-index: 999999 !important;\n",
    "    background-color: #f57b00;\n",
    "    opacity: 0.95;\n",
    "}\n",
    "\n",
    ".dropdown-menu > li > a {\n",
    "    color: #fff;\n",
    "}\n",
    "\n",
    ".dropdown-menu > .disabled > a, .dropdown-menu > .disabled > a:hover, .dropdown-menu > .disabled > a:focus {\n",
    "    color: rgba(255, 255, 255, 0.25);\n",
    "}\n",
    "\n",
    ".navbar-nav > li > .dropdown-menu {\n",
    "    border: none;\n",
    "    box-shadow: none;\n",
    "}\n",
    "\n",
    "div.output_wrapper {\n",
    "    background: #eee;\n",
    "}\n",
    "\n",
    "div.cell.unselected div.output_area{\n",
    "    box-shadow: inset 0 0 25px #aaa;\n",
    "    padding: 1em 0;\n",
    "    overflow-x: auto;\n",
    "    transition: all 0.25s;\n",
    "}\n",
    "\n",
    "div.cell.selected .output_area {\n",
    "    box-shadow: inset 0 0 5px #aaa;\n",
    "    padding: 0.5em 0;\n",
    "    overflow-x: auto;\n",
    "}\n",
    "\n",
    "div.cell.selected .div.output_scroll {\n",
    "    box-shadow: none;\n",
    "}\n",
    "\n",
    "div.output_wrapper {\n",
    "    margin: 0 0 1em;\n",
    "    transition: all 0.25s;\n",
    "}\n",
    "\n",
    "div.cell.selected .output_wrapper {\n",
    "    margin: 0;\n",
    "}\n",
    "\n",
    ".dataframe {\n",
    "    background: #fff;\n",
    "    box-shadow: 0px 1px 2px #bbb;\n",
    "}\n",
    "\n",
    ".dataframe thead th, .dataframe tbody td {\n",
    "    text-align: right;\n",
    "    padding: 1em;\n",
    "}\n",
    "\n",
    ".output, div.output_scroll {\n",
    "    box-shadow: none;\n",
    "}\n",
    "\n",
    ".rendered_html pre code {\n",
    "    background: #f4f4f4;\n",
    "    border: 1px solid #ddd;\n",
    "    border-left: 3px solid #2a7bbd;\n",
    "    color: #444;\n",
    "    page-break-inside: avoid;\n",
    "    font-family: monospace;\n",
    "    font-size: 15px;\n",
    "    line-height: 1.6;\n",
    "    margin-bottom: 1.6em;\n",
    "    max-width: 100%;\n",
    "    overflow: auto;\n",
    "    padding: 1em 1.5em;\n",
    "    display: block;\n",
    "    word-wrap: break-word;\n",
    "}\n",
    "\n",
    "h1, .h1 {\n",
    "    font-size: 33px;\n",
    "    font-family: \"Trebuchet MS\";\n",
    "    font-size: 2.5em !important;\n",
    "    color: #2a7bbd;\n",
    "}\n",
    "</style>"
   ],
   "cell_type": "markdown",
   "metadata": {}
  },
  {
   "source": [
    "# Expected max score in a group of $n$ people\n",
    "\n",
    "This is inspired by [this tweet](https://twitter.com/weijima01/status/1316690215839334403) by Wei Ji Ma, where he makes the following claim:\n",
    "\n",
    "> Let’s say group A has 10 people, group B has 2. Each of the 12 people randomly gets assigned a number between 1 and 100. Then I use the highest number in Group A as the score for Group A and the highest number in Group B as the score for Group B. On average, Group A will score 91.4 and Group B 67.2.\n",
    "\n",
    "As Twitter is not really the place for long-form proofs, the statement is left unchecked. Ji Ma certainly knows what he is talking about, but lets prove the statement to be true or false anyway.\n",
    "\n",
    "To formalize everything a bit, we'll assume we have $n$ people. Each person gets a score $X_i$, where $i \\in \\{1, 2, \\ldots, n \\}$, and each score is uniformally distributed with the possible scores $1, 2, \\ldots, 100$. Naturally, the probability of getting any one score is $1 / 100$, and we define $f(x) = 1/100$. However, we are interested in the top score in a group of $n$ people. To this end, define\n",
    "$$\n",
    "  Y = \\max{\\{X_1, X_2, \\ldots, X_n \\}}.\n",
    "$$\n",
    "An important function is statistics is the cumulative probability function, given by $F(a) = P(X \\leq a)$ for a random variable $X$. In our case, with $Y$ as defined above, we find\n",
    "$$\n",
    "  P(Y \\leq a) = P(X_1 \\leq a \\cap X_2 \\leq a \\cap \\cdots \\cap X_n \\leq a),\n",
    "$$\n",
    "that is, if the maximum score is smaller than $a$, this means _every_ score is smaller than $a$.\n",
    "As all of our random variables $X_i$ are independent and identically distributed, this means\n",
    "$$\n",
    "  P(Y \\leq a) = \\left[ P(X \\leq a) \\right]^n,\n",
    "$$\n",
    "where $X$ is a uniformally distributed random variable in the range $\\{1, 2, \\ldots, 100\\}$ – i.e. $X$ is a stand-in for $X_i$. Naturally, $P(X \\leq a)$ is given by the probability that $X=1$ plus the probability that $X=2$ and so on, all the way until $X=$. By working this out we get\n",
    "$$\n",
    "  P(X \\leq a) = \\sum_{k=1}^{a} \\frac{1}{100} = \\frac{a}{100},\n",
    "$$\n",
    "and so\n",
    "$$\n",
    "  P(Y \\leq a) = \\left(\\frac{a}{100}\\right)^n.\n",
    "$$\n",
    "To find the expected value, defined by\n",
    "$$\n",
    "  E[Y] = \\sum_{k=1}^{100} k P(Y = k),\n",
    "$$\n",
    "notice that\n",
    "$$\n",
    "  P(Y=k) = P(Y \\leq k) - P(Y \\leq k-1) = \\frac{k^n - (k-1)^n}{100^n},\n",
    "$$\n",
    "so the expected value becomes\n",
    "$$\n",
    "  E[Y] = \\frac{1}{100^n} \\sum_{k=1}^{100} (k^{n+1} - k(k-1)^n).\n",
    "$$\n",
    "Expressions like the one above are a nightmare by hand, but pretty straightforward in Python:"
   ],
   "cell_type": "markdown",
   "metadata": {}
  },
  {
   "cell_type": "code",
   "execution_count": 1,
   "metadata": {},
   "outputs": [],
   "source": [
    "def expected_max_score(n):\n",
    "    \"\"\"Calculate the expected max score in a group of\n",
    "    n people where each person is assigned a random score\n",
    "    between 1 and 100\"\"\"\n",
    "    ans = 0\n",
    "    for k in range(1, 101):\n",
    "        ans += k ** (n + 1) - k * (k - 1) ** n\n",
    "    return ans / 100 ** n"
   ]
  },
  {
   "source": [
    "We are now finally ready to verify the claim made in the tweet."
   ],
   "cell_type": "markdown",
   "metadata": {}
  },
  {
   "cell_type": "code",
   "execution_count": 2,
   "metadata": {},
   "outputs": [
    {
     "output_type": "stream",
     "name": "stdout",
     "text": [
      "The expected maximum score in a group of ten people is 91.4.\nThe expected maximum score in a group of two people is 67.2.\n"
     ]
    }
   ],
   "source": [
    "ten_people_max_score = expected_max_score(10)\n",
    "two_people_max_score = expected_max_score(2)\n",
    "\n",
    "print(\n",
    "    f\"The expected maximum score in a group of ten people is {ten_people_max_score:.1f}.\"\n",
    ")\n",
    "print(\n",
    "    f\"The expected maximum score in a group of two people is {two_people_max_score:.1f}.\"\n",
    ")"
   ]
  },
  {
   "source": [
    "And there you go! We have verified the claim. Of course, we can also perform a few simulations to become even more confident in our work."
   ],
   "cell_type": "markdown",
   "metadata": {}
  },
  {
   "cell_type": "code",
   "execution_count": 3,
   "metadata": {},
   "outputs": [],
   "source": [
    "from numpy.random import default_rng"
   ]
  },
  {
   "cell_type": "code",
   "execution_count": 4,
   "metadata": {},
   "outputs": [
    {
     "output_type": "stream",
     "name": "stdout",
     "text": [
      "Over 10000 iterations, the group of ten people had an average max score of 91.4.\nThe group of two people had an average max score of 67.0.\n"
     ]
    }
   ],
   "source": [
    "rng = default_rng()\n",
    "ten_people_max = 0\n",
    "two_people_max = 0\n",
    "iterations = 10000\n",
    "for _ in range(iterations):\n",
    "    ten_people_max += max(rng.integers(1, 100, size=10, endpoint=True))\n",
    "    two_people_max += max(rng.integers(1, 100, size=2, endpoint=True))\n",
    "ten_people_max /= iterations\n",
    "two_people_max /= iterations\n",
    "print(\n",
    "    f\"Over {iterations} iterations, the group of ten people had an average max score of {ten_people_max:.1f}.\"\n",
    ")\n",
    "print(f\"The group of two people had an average max score of {two_people_max:.1f}.\")"
   ]
  },
  {
   "source": [
    "Pretty good! This is also a good time to remind ourselves of what the expected value actually is – it is the average value of a random variable as the number of trials approach infinity. In other words, the fact that there is a minor inconsitency between our simulation and the analytical value does not mean that we are wrong, it just means i didn't have the time to do an infinite number of iterations this morning."
   ],
   "cell_type": "markdown",
   "metadata": {}
  },
  {
   "source": [
    "Do you like this notebook? Do you hate it? [Let me know](twitter.com/satansax)."
   ],
   "cell_type": "markdown",
   "metadata": {}
  }
 ]
}